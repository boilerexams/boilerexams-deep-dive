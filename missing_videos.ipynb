{
 "cells": [
  {
   "cell_type": "code",
   "execution_count": null,
   "metadata": {},
   "outputs": [],
   "source": [
    "import marimo as mo\n",
    "import polars as pl\n",
    "\n",
    "#load Missing Videos Parquet\n",
    "df = pl.read_parquet(\"missing_videos.parquet\")\n",
    "\n",
    "class_dropdown = mo.ui.dropdown(\n",
    "    options = [\"All\"] + sorted(df[\"Course Name\"].unique().to_list()),\n",
    "    label=\"Class\"\n",
    ")\n",
    "columns_sort_dropdown = mo.ui.dropdown(\n",
    "    options= [\"Average Percent Correct\", \"Total Submissions\", \"Correct Submissions\"],\n",
    "    label=\"Sort Column\"\n",
    ")\n",
    "sort_order_switch = mo.ui.switch(\n",
    "    label = \"Sorting Direction\"\n",
    ").style(\n",
    "    on_color=\"green\",  # Green for ascending\n",
    "    off_color=\"red\",   # Red for descending\n",
    "    on_text=\"Ascending\",\n",
    "    off_text=\"Descending\"\n",
    ")"
   ]
  },
  {
   "cell_type": "code",
   "execution_count": null,
   "metadata": {},
   "outputs": [],
   "source": []
  }
 ],
 "metadata": {
  "kernelspec": {
   "display_name": ".venv",
   "language": "python",
   "name": "python3"
  },
  "language_info": {
   "name": "python",
   "version": "3.12.1"
  }
 },
 "nbformat": 4,
 "nbformat_minor": 2
}
